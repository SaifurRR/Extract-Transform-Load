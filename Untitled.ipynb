{
 "cells": [
  {
   "cell_type": "code",
   "execution_count": null,
   "id": "f0be3aa1",
   "metadata": {},
   "outputs": [],
   "source": [
    "\"\"\"\n",
    "An input CSV file containing statistical information about diseases in \n",
    "different locations is given.\n",
    "\n",
    "Here are the definitions of each column in the input file:\n",
    "\n",
    "1. location_code: The unique identifier of the location\n",
    "2. disease: Name of the disease\n",
    "3. prevalence: Number of people having the disease\n",
    "4. population: Number of people living in the location\n",
    "\n",
    "Please complete the following Python function that:\n",
    "(a) calculates the percentage of people who have each disease in each\n",
    "    location, and\n",
    "(b) writes the result to a specified CSV file\n",
    "\n",
    "Notes:\n",
    "1. If there is no information about a disease for a specific location, \n",
    "    the percentage should be considered zero.\n",
    "2. The output file should contain a column specifying the location \n",
    "   and a column for each disease.\n",
    "3. The samples of input and output files have been attached.\n",
    "\"\"\""
   ]
  },
  {
   "cell_type": "code",
   "execution_count": 6,
   "id": "8870cc1a",
   "metadata": {},
   "outputs": [
    {
     "data": {
      "text/html": [
       "<div>\n",
       "<style scoped>\n",
       "    .dataframe tbody tr th:only-of-type {\n",
       "        vertical-align: middle;\n",
       "    }\n",
       "\n",
       "    .dataframe tbody tr th {\n",
       "        vertical-align: top;\n",
       "    }\n",
       "\n",
       "    .dataframe thead th {\n",
       "        text-align: right;\n",
       "    }\n",
       "</style>\n",
       "<table border=\"1\" class=\"dataframe\">\n",
       "  <thead>\n",
       "    <tr style=\"text-align: right;\">\n",
       "      <th></th>\n",
       "      <th>location_code</th>\n",
       "      <th>disease</th>\n",
       "      <th>prevalence</th>\n",
       "      <th>population</th>\n",
       "    </tr>\n",
       "  </thead>\n",
       "  <tbody>\n",
       "    <tr>\n",
       "      <th>0</th>\n",
       "      <td>1</td>\n",
       "      <td>diabetes</td>\n",
       "      <td>1277</td>\n",
       "      <td>18063</td>\n",
       "    </tr>\n",
       "    <tr>\n",
       "      <th>1</th>\n",
       "      <td>2</td>\n",
       "      <td>diabetes</td>\n",
       "      <td>1344</td>\n",
       "      <td>11123</td>\n",
       "    </tr>\n",
       "    <tr>\n",
       "      <th>2</th>\n",
       "      <td>4</td>\n",
       "      <td>diabetes</td>\n",
       "      <td>603</td>\n",
       "      <td>11545</td>\n",
       "    </tr>\n",
       "    <tr>\n",
       "      <th>3</th>\n",
       "      <td>12</td>\n",
       "      <td>diabetes</td>\n",
       "      <td>1265</td>\n",
       "      <td>19140</td>\n",
       "    </tr>\n",
       "    <tr>\n",
       "      <th>4</th>\n",
       "      <td>6</td>\n",
       "      <td>diabetes</td>\n",
       "      <td>1943</td>\n",
       "      <td>11811</td>\n",
       "    </tr>\n",
       "  </tbody>\n",
       "</table>\n",
       "</div>"
      ],
      "text/plain": [
       "   location_code   disease  prevalence  population\n",
       "0              1  diabetes        1277       18063\n",
       "1              2  diabetes        1344       11123\n",
       "2              4  diabetes         603       11545\n",
       "3             12  diabetes        1265       19140\n",
       "4              6  diabetes        1943       11811"
      ]
     },
     "execution_count": 6,
     "metadata": {},
     "output_type": "execute_result"
    }
   ],
   "source": [
    "import sys\n",
    "import pandas as pd\n",
    "import numpy as np\n",
    "data = pd.read_csv('input.csv')\n",
    "data.head(5)\n",
    "\n",
    "\n",
    "\n",
    "\n",
    "\n",
    "\n",
    "\n"
   ]
  },
  {
   "cell_type": "code",
   "execution_count": 38,
   "id": "c31b99f7",
   "metadata": {},
   "outputs": [],
   "source": [
    "def calculate_prevalence_rate_by_location(input_path: str, output_path: str) -> None:\n",
    "    #pass: used for future task\n",
    "    problem_1 = data.groupby('location_code')['location_code'].count()\n",
    "    print(problem_1) \n",
    "\n",
    "\n",
    "\n",
    "\n"
   ]
  },
  {
   "cell_type": "code",
   "execution_count": 30,
   "id": "4b090714",
   "metadata": {},
   "outputs": [
    {
     "name": "stdout",
     "output_type": "stream",
     "text": [
      "-f\n",
      "C:\\Users\\saif08.stu\\AppData\\Roaming\\jupyter\\runtime\\kernel-1a72ff60-45ee-462d-8350-44f92bf1b482.json\n",
      "-f\n"
     ]
    }
   ],
   "source": [
    "if __name__ == '__main__': #checks whether code is run from the main file or imported file\n",
    "    input_path = str(sys.argv[1]).strip() #1st-command line argument passed to script\n",
    "    output_path = str(sys.argv[2]).strip() #sys.argv: list of commandline arguments passed to .py\n",
    "                                           #argv: represents all the items, comes along via command-line i/p\n",
    "                                           #      array that holds the command line arguments \n",
    "                                           # counting starts at '0': which is name of program, '1': 1st argument\n",
    "                                           # strip(): returns a copy of 'string' - with both leading & trailing\n",
    "                                           #          characters removed; \n",
    "                                           # strip(x): removes string 'x' from the string\n",
    "    print(input_path)\n",
    "    print(output_path)\n",
    "    print(sys.argv[-2])\n",
    "    #calculate_prevalence_rate_by_location(input_path, output_path)\n",
    "    \n"
   ]
  },
  {
   "cell_type": "code",
   "execution_count": null,
   "id": "9eeb38b2",
   "metadata": {},
   "outputs": [],
   "source": []
  },
  {
   "cell_type": "code",
   "execution_count": null,
   "id": "d35d2358",
   "metadata": {},
   "outputs": [],
   "source": []
  },
  {
   "cell_type": "code",
   "execution_count": null,
   "id": "d617ba5c",
   "metadata": {},
   "outputs": [],
   "source": []
  },
  {
   "cell_type": "code",
   "execution_count": null,
   "id": "29f87c4c",
   "metadata": {},
   "outputs": [],
   "source": []
  },
  {
   "cell_type": "code",
   "execution_count": null,
   "id": "9867f048",
   "metadata": {},
   "outputs": [],
   "source": []
  }
 ],
 "metadata": {
  "kernelspec": {
   "display_name": "Python 3 (ipykernel)",
   "language": "python",
   "name": "python3"
  },
  "language_info": {
   "codemirror_mode": {
    "name": "ipython",
    "version": 3
   },
   "file_extension": ".py",
   "mimetype": "text/x-python",
   "name": "python",
   "nbconvert_exporter": "python",
   "pygments_lexer": "ipython3",
   "version": "3.9.7"
  }
 },
 "nbformat": 4,
 "nbformat_minor": 5
}
